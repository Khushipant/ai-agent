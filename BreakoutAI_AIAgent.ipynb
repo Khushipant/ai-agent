{
  "nbformat": 4,
  "nbformat_minor": 0,
  "metadata": {
    "colab": {
      "provenance": [],
      "authorship_tag": "ABX9TyP03gno/9Dqkq4I16//O6rJ",
      "include_colab_link": true
    },
    "kernelspec": {
      "name": "python3",
      "display_name": "Python 3"
    },
    "language_info": {
      "name": "python"
    }
  },
  "cells": [
    {
      "cell_type": "markdown",
      "metadata": {
        "id": "view-in-github",
        "colab_type": "text"
      },
      "source": [
        "<a href=\"https://colab.research.google.com/github/Khushipant/ai-agent/blob/main/BreakoutAI_AIAgent.ipynb\" target=\"_parent\"><img src=\"https://colab.research.google.com/assets/colab-badge.svg\" alt=\"Open In Colab\"/></a>"
      ]
    },
    {
      "cell_type": "code",
      "execution_count": null,
      "metadata": {
        "id": "-HqTMKq2FPtk"
      },
      "outputs": [],
      "source": [
        "# Install required packages\n",
        "!pip install langchain langchain-groq tabulate openpyxl streamlit langchain_community pyngrok flask gspread oauth2client"
      ]
    },
    {
      "cell_type": "code",
      "source": [
        "# Import required libraries\n",
        "import streamlit as st\n",
        "import pandas as pd\n",
        "import os\n",
        "import gspread\n",
        "from google.colab import auth\n",
        "from google.auth import default\n",
        "from langchain.prompts import PromptTemplate\n",
        "from langchain.llms import HuggingFacePipeline\n",
        "from langchain import LLMChain\n",
        "from langchain.chains import LLMChain\n",
        "from langchain.chains.question_answering import load_qa_chain\n",
        "from langchain_groq import ChatGroq\n",
        "from flask import Flask, render_template, request, jsonify\n",
        "from pyngrok import ngrok\n",
        "from langchain_groq import ChatGroq"
      ],
      "metadata": {
        "id": "mNgvd3QxFYnD"
      },
      "execution_count": 3,
      "outputs": []
    },
    {
      "cell_type": "code",
      "source": [
        "# Set up the LLM chain\n",
        "llm = ChatGroq(temperature=0.8, groq_api_key='xyz', model_name=\"llama3-70b-8192\") #replace xyz with your groq_api"
      ],
      "metadata": {
        "id": "uRjPgI93Fa1W"
      },
      "execution_count": 4,
      "outputs": []
    },
    {
      "cell_type": "code",
      "source": [
        "prompt_template = \"\"\"\n",
        "I have the following CSV data with the columns: \"{columns}\".\n",
        "Data is in a dataframe called 'df' already.\n",
        "Don't give any description or explanation or any English sentence,\n",
        "just write relevant Python code and store output in a variable called result.\n",
        "Please generate a Python script using this 'df' as input dataframe and pandas to answer this question: \"{question}\".\n",
        "Do not write any Python script which alters the dataframe 'df'.\n",
        "Write only read-only Python script.\n",
        "\"\"\""
      ],
      "metadata": {
        "id": "DOQT9v2dF8JC"
      },
      "execution_count": 5,
      "outputs": []
    },
    {
      "cell_type": "code",
      "source": [
        "template = PromptTemplate(\n",
        "    input_variables=[\"columns\", \"question\"],\n",
        "    template=prompt_template,\n",
        ")\n",
        "\n",
        "llm_chain = LLMChain(prompt=template, llm=llm)"
      ],
      "metadata": {
        "colab": {
          "base_uri": "https://localhost:8080/"
        },
        "id": "U_Lg3blgF-Pb",
        "outputId": "9c74b9e0-dca7-4784-ef4b-fa1ad557323b"
      },
      "execution_count": 6,
      "outputs": [
        {
          "output_type": "stream",
          "name": "stderr",
          "text": [
            "<ipython-input-6-7c34c4a85100>:6: LangChainDeprecationWarning: The class `LLMChain` was deprecated in LangChain 0.1.17 and will be removed in 1.0. Use :meth:`~RunnableSequence, e.g., `prompt | llm`` instead.\n",
            "  llm_chain = LLMChain(prompt=template, llm=llm)\n"
          ]
        }
      ]
    },
    {
      "cell_type": "code",
      "source": [
        "# Google Sheets authentication\n",
        "def authenticate_google_sheets():\n",
        "    auth.authenticate_user()\n",
        "    creds, _ = default()\n",
        "    return gspread.authorize(creds)"
      ],
      "metadata": {
        "id": "R1iIswYzGCBR"
      },
      "execution_count": 7,
      "outputs": []
    },
    {
      "cell_type": "code",
      "source": [
        "# File handling logic\n",
        "def handle_uploaded_file(uploaded_file):\n",
        "    df = pd.DataFrame()\n",
        "\n",
        "    if uploaded_file.endswith('.csv'):\n",
        "        df = pd.read_csv(uploaded_file)\n",
        "    elif uploaded_file.endswith(('.xls', '.xlsx')):\n",
        "        df = pd.read_excel(uploaded_file)\n",
        "    elif uploaded_file.startswith(\"https://docs.google.com/spreadsheets/\"):\n",
        "        try:\n",
        "            sheet_key = uploaded_file.split('/')[-2]\n",
        "            gc = authenticate_google_sheets()\n",
        "            worksheet = gc.open_by_key(sheet_key).sheet1\n",
        "            rows = worksheet.get_all_values()\n",
        "            df = pd.DataFrame(rows)\n",
        "        except Exception as e:\n",
        "            print(f\"Error reading Google Sheet: {e}\")\n",
        "\n",
        "    return df"
      ],
      "metadata": {
        "id": "DH-GmHHyGGeO"
      },
      "execution_count": 8,
      "outputs": []
    },
    {
      "cell_type": "code",
      "source": [
        "# Flask app setup\n",
        "app = Flask(__name__)\n",
        "\n",
        "@app.route('/', methods=['GET', 'POST'])\n",
        "def index():\n",
        "    if request.method == 'POST':\n",
        "        uploaded_file = None\n",
        "        error = None\n",
        "        df = pd.DataFrame()\n",
        "\n",
        "        # Handle uploaded file\n",
        "        if 'file' in request.files and request.files['file'].filename:\n",
        "            file = request.files['file']\n",
        "            uploaded_file = file.filename\n",
        "            file.save(uploaded_file)  # Save the file temporarily\n",
        "            try:\n",
        "                df = handle_uploaded_file(uploaded_file)\n",
        "            except Exception as e:\n",
        "                error = f\"Error processing file: {e}\"\n",
        "\n",
        "        # Handle Google Sheet URL\n",
        "        elif 'google_sheet_url' in request.form:\n",
        "            uploaded_file = request.form['google_sheet_url']\n",
        "            if uploaded_file.startswith('https://docs.google.com/spreadsheets/'):\n",
        "                try:\n",
        "                    df = handle_uploaded_file(uploaded_file)\n",
        "                except Exception as e:\n",
        "                    error = f\"Error accessing Google Sheet: {e}\"\n",
        "            else:\n",
        "                error = \"Invalid Google Sheet URL.\"\n",
        "\n",
        "        # Retrieve question\n",
        "        question = request.form.get('question', '')\n",
        "\n",
        "        # Process the question and dataframe\n",
        "        answer = None\n",
        "        if not df.empty and not error:\n",
        "            try:\n",
        "                # Generate Python code to answer the question\n",
        "                python_script = llm_chain.invoke({\n",
        "                    \"columns\": \", \".join(df.columns),\n",
        "                    \"question\": question\n",
        "                })\n",
        "\n",
        "                # Display the generated Python code\n",
        "                print(\"### Generated Python Code:\")\n",
        "                print(python_script['text'].strip('`'))\n",
        "\n",
        "                # Execute the generated Python code\n",
        "                exec_globals = {\"df\": df, \"pd\": pd}\n",
        "                exec_locals = {}\n",
        "                python_script['text'] = python_script['text'].strip('`')\n",
        "                exec(python_script['text'], exec_globals, exec_locals)\n",
        "\n",
        "                # If a result variable is present, store and print it\n",
        "                answer = exec_globals.get('result', exec_locals.get('result'))\n",
        "            except Exception as e:\n",
        "                error = f\"Error processing the question: {e}\"\n",
        "\n",
        "        # Return JSON response\n",
        "        if answer:\n",
        "            return jsonify(answer)\n",
        "        else:\n",
        "            return jsonify({'error': error or \"Unable to process input.\"})\n",
        "\n",
        "    return render_template('index.html')"
      ],
      "metadata": {
        "id": "oTA9h4EyGLLD"
      },
      "execution_count": 24,
      "outputs": []
    },
    {
      "cell_type": "code",
      "source": [
        "# Streamlit app setup\n",
        "def create_html_form():\n",
        "    html_content = \"\"\"\n",
        "    <!DOCTYPE html>\n",
        "    <html lang=\"en\">\n",
        "    <head>\n",
        "        <meta charset=\"UTF-8\">\n",
        "        <meta name=\"viewport\" content=\"width=device-width, initial-scale=1.0\">\n",
        "        <title>Data Processing</title>\n",
        "        <style>\n",
        "            body {\n",
        "                font-family: Arial, sans-serif;\n",
        "                background-color: #f4f4f9;\n",
        "                margin: 0;\n",
        "                padding: 0;\n",
        "                display: flex;\n",
        "                justify-content: center;\n",
        "                align-items: center;\n",
        "                height: 100vh;\n",
        "                flex-direction: column;\n",
        "            }\n",
        "\n",
        "            .form-container {\n",
        "                background: #ffffff;\n",
        "                padding: 20px 30px;\n",
        "                border-radius: 8px;\n",
        "                box-shadow: 0 4px 10px rgba(0, 0, 0, 0.1);\n",
        "                width: 100%;\n",
        "                max-width: 400px;\n",
        "                margin-bottom: 20px;\n",
        "            }\n",
        "\n",
        "            h1 {\n",
        "                text-align: center;\n",
        "                color: #333333;\n",
        "                margin-bottom: 20px;\n",
        "            }\n",
        "\n",
        "            form {\n",
        "                display: flex;\n",
        "                flex-direction: column;\n",
        "            }\n",
        "\n",
        "            input[type='file'],\n",
        "            input[type='text'],\n",
        "            input[type='submit'] {\n",
        "                margin-bottom: 15px;\n",
        "                padding: 10px;\n",
        "                font-size: 16px;\n",
        "                border: 1px solid #cccccc;\n",
        "                border-radius: 4px;\n",
        "                box-sizing: border-box;\n",
        "            }\n",
        "\n",
        "            input[type='submit'] {\n",
        "                background-color: #007BFF;\n",
        "                color: #ffffff;\n",
        "                border: none;\n",
        "                cursor: pointer;\n",
        "                transition: background-color 0.3s ease;\n",
        "            }\n",
        "\n",
        "            input[type='submit']:hover {\n",
        "                background-color: #0056b3;\n",
        "            }\n",
        "\n",
        "            .separator {\n",
        "                text-align: center;\n",
        "                margin: 10px 0;\n",
        "                color: #666666;\n",
        "            }\n",
        "\n",
        "            .note {\n",
        "                font-size: 14px;\n",
        "                color: #888888;\n",
        "                text-align: center;\n",
        "            }\n",
        "\n",
        "            .response {\n",
        "                margin-top: 20px;\n",
        "                padding: 15px;\n",
        "                background-color: #eaf7ea;\n",
        "                border: 1px solid #c1e2c1;\n",
        "                border-radius: 8px;\n",
        "                color: #2d662d;\n",
        "                font-size: 16px;\n",
        "            }\n",
        "        </style>\n",
        "    </head>\n",
        "    <body>\n",
        "        <div class=\"form-container\">\n",
        "            <h1>Data Processing</h1>\n",
        "            <form method=\"POST\" enctype=\"multipart/form-data\">\n",
        "                <label for=\"file\">Upload File:</label>\n",
        "                <input type=\"file\" name=\"file\" id=\"file\"><br>\n",
        "                <div class=\"separator\">OR</div>\n",
        "                <label for=\"google_sheet_url\">Google Sheet URL:</label>\n",
        "                <input type=\"text\" name=\"google_sheet_url\" id=\"google_sheet_url\" placeholder=\"Enter Google Sheet URL\"><br>\n",
        "                <label for=\"question\">Question:</label>\n",
        "                <input type=\"text\" name=\"question\" id=\"question\" placeholder=\"Enter your question\"><br>\n",
        "                <input type=\"submit\" value=\"Submit\">\n",
        "            </form>\n",
        "            <p class=\"note\">Supported file formats: .csv, .xls, .xlsx</p>\n",
        "        </div>\n",
        "\n",
        "        {% if answer %}\n",
        "        <div class=\"response\">\n",
        "            <strong>Generated Result:</strong>\n",
        "            <p>{{ answer }}</p>\n",
        "        </div>\n",
        "        {% endif %}\n",
        "    </body>\n",
        "    </html>\n",
        "    \"\"\"\n",
        "\n",
        "    with open(\"templates/index.html\", \"w\") as file:\n",
        "        file.write(html_content)"
      ],
      "metadata": {
        "id": "AQHNH5TeGOEp"
      },
      "execution_count": 25,
      "outputs": []
    },
    {
      "cell_type": "code",
      "source": [
        "!pip install pyngrok\n",
        "from pyngrok import ngrok\n",
        "!ngrok config add-authtoken xyz # replace xyz with your ngrock authtoken"
      ],
      "metadata": {
        "colab": {
          "base_uri": "https://localhost:8080/"
        },
        "id": "YmU-JF2fGimN",
        "outputId": "d224823c-809b-413b-928e-11f69f6f8ac0"
      },
      "execution_count": 26,
      "outputs": [
        {
          "output_type": "stream",
          "name": "stdout",
          "text": [
            "Requirement already satisfied: pyngrok in /usr/local/lib/python3.10/dist-packages (7.2.1)\n",
            "Requirement already satisfied: PyYAML>=5.1 in /usr/local/lib/python3.10/dist-packages (from pyngrok) (6.0.2)\n",
            "Authtoken saved to configuration file: /root/.config/ngrok/ngrok.yml\n"
          ]
        }
      ]
    },
    {
      "cell_type": "code",
      "source": [
        "from pyngrok import ngrok\n",
        "\n",
        "# Expose the Flask app via ngrok\n",
        "public_url = ngrok.connect(8001)\n",
        "print(' * Tunnel URL:', public_url)\n"
      ],
      "metadata": {
        "colab": {
          "base_uri": "https://localhost:8080/"
        },
        "id": "o3qgxCUoGVkS",
        "outputId": "541eeff8-f843-4915-87e0-e465aff2a6aa"
      },
      "execution_count": 27,
      "outputs": [
        {
          "output_type": "stream",
          "name": "stdout",
          "text": [
            " * Tunnel URL: NgrokTunnel: \"https://b51f-34-138-25-244.ngrok-free.app\" -> \"http://localhost:8001\"\n"
          ]
        }
      ]
    },
    {
      "cell_type": "code",
      "source": [],
      "metadata": {
        "id": "FGz9BfFkJMgV"
      },
      "execution_count": null,
      "outputs": []
    }
  ]
}